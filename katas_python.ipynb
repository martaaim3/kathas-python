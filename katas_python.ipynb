{
 "cells": [
  {
   "cell_type": "markdown",
   "metadata": {},
   "source": [
    "1. Escribe una función que reciba una cadena de texto como parámetro y devuelva un diccionario con las frecuencias de cada letra en la cadena. Los espacios no deben ser considerados."
   ]
  },
  {
   "cell_type": "code",
   "execution_count": 3,
   "metadata": {},
   "outputs": [],
   "source": [
    "def texto(texto):\n",
    "\n",
    "    frecuencias={}\n",
    "\n",
    "    for letra in texto: \n",
    "       if letra !=\" \":\n",
    "            if letra in frecuencias:   \n",
    "                frecuencias[letra]+=1\n",
    "            else:\n",
    "                frecuencias[letra]=1\n",
    "        \n",
    "    return frecuencias\n",
    "\n"
   ]
  },
  {
   "cell_type": "code",
   "execution_count": 9,
   "metadata": {},
   "outputs": [
    {
     "name": "stdout",
     "output_type": "stream",
     "text": [
      "{'M': 1, 'i': 1, 'n': 1, 'o': 1, 'm': 2, 'b': 1, 'r': 2, 'e': 2, 's': 1, 'a': 2, 't': 1}\n"
     ]
    }
   ],
   "source": [
    "resultado = texto(\"Mi nombre es marta\")\n",
    "print (resultado)"
   ]
  },
  {
   "cell_type": "markdown",
   "metadata": {},
   "source": [
    "2. Dada una lista de números, obtén una nueva lista con el doble de cada valor. Usa la función map()"
   ]
  },
  {
   "cell_type": "code",
   "execution_count": 23,
   "metadata": {},
   "outputs": [],
   "source": [
    "lista=[10,23,4,21,11,6]\n",
    "lista_doble=list(map(lambda x:x*2,lista))\n"
   ]
  },
  {
   "cell_type": "code",
   "execution_count": 25,
   "metadata": {},
   "outputs": [
    {
     "name": "stdout",
     "output_type": "stream",
     "text": [
      "[20, 46, 8, 42, 22, 12]\n"
     ]
    }
   ],
   "source": [
    "print(lista_doble)"
   ]
  },
  {
   "cell_type": "markdown",
   "metadata": {},
   "source": [
    "3. Escribe una función que tome una lista de palabras y una palabra objetivo como parámetros. La función debe devolver una lista con todas las palabras de la lista original que contengan la palabra objetivo."
   ]
  },
  {
   "cell_type": "code",
   "execution_count": 4,
   "metadata": {},
   "outputs": [],
   "source": [
    "def lista_palabras(palabras,palabra_objetivo):\n",
    "    resultado= [palabra for palabra in palabras if palabra_objetivo in palabra]\n",
    "    return resultado"
   ]
  },
  {
   "cell_type": "code",
   "execution_count": 8,
   "metadata": {},
   "outputs": [
    {
     "name": "stdout",
     "output_type": "stream",
     "text": [
      "['gato']\n"
     ]
    }
   ],
   "source": [
    "lista = [\"gato\", \"perro\", \"gatito\", \"pez\", \"gaviota\"]\n",
    "objetivo = \"gato\"\n",
    "resultado = lista_palabras(lista, objetivo)\n",
    "print(resultado)"
   ]
  },
  {
   "cell_type": "markdown",
   "metadata": {},
   "source": [
    "4.Genera una función que calcule la diferencia entre los valores de dos listas. Usa la función map()"
   ]
  },
  {
   "cell_type": "code",
   "execution_count": null,
   "metadata": {},
   "outputs": [],
   "source": [
    "def diferencia_listas(lista1, lista2):\n",
    "    if len(lista1) != (lista2):\n",
    "        raise ValueError(\"Las listas deben tener la misma longitud\")\n",
    "    diferencias = list(map(lambda x,y: x-y, lista1, lista2))\n",
    "    return diferencias"
   ]
  },
  {
   "cell_type": "code",
   "execution_count": null,
   "metadata": {},
   "outputs": [],
   "source": [
    "#EJEMPLO DE USO\n",
    "lista_a=[10,20,30,40,50]\n",
    "lista_b=[5,9,12,27,62]"
   ]
  },
  {
   "cell_type": "code",
   "execution_count": null,
   "metadata": {},
   "outputs": [],
   "source": [
    "resultado=diferencia_listas(lista_a, lista_b)\n",
    "print(resultado)"
   ]
  },
  {
   "cell_type": "markdown",
   "metadata": {},
   "source": [
    "5. Ecribe una función que tome una lista de números como parámetro y un valor opcional nota_aprobado, que por defecto es 5. La función debe calcular la media de los números en la lista y determinar si la media es mayor o igual que nota aprobado. Si es así, el estado será \"aprobado\", de lo contrario, será \"suspenso\". La función debe devolver una tupla que contenga la media y el estado."
   ]
  },
  {
   "cell_type": "code",
   "execution_count": 10,
   "metadata": {},
   "outputs": [],
   "source": [
    "def lista_numeros(notas,nota_aprobado=5):\n",
    "    #calculamos la media\n",
    "    media= sum(notas)/len(notas)\n",
    "\n",
    "    #comprobamos estado = aprobado o suspenso\n",
    "    if (media>=nota_aprobado):\n",
    "       estado=\"Aprobado\"\n",
    "    else:\n",
    "        estado=\"Suspenso\"\n",
    "    \n",
    "    #devolvemos la media y el estado\n",
    "    return (media, estado)"
   ]
  },
  {
   "cell_type": "code",
   "execution_count": 11,
   "metadata": {},
   "outputs": [
    {
     "name": "stdout",
     "output_type": "stream",
     "text": [
      "(5.5, 'Aprobado')\n"
     ]
    }
   ],
   "source": [
    "#ejemplo uso\n",
    "notas=[7,5,2,9,4,6]\n",
    "resultado = lista_numeros(notas)\n",
    "print(resultado)"
   ]
  },
  {
   "cell_type": "markdown",
   "metadata": {},
   "source": [
    "6. Escribe una función que calcule el factorial de un número de manera recursiva."
   ]
  },
  {
   "cell_type": "code",
   "execution_count": 15,
   "metadata": {},
   "outputs": [],
   "source": [
    "#5!=5*4*3*2*1 -- todos los numeros enteros desde 1 hasta n\n",
    "#empezamos por 1\n",
    "def factorial_numero(n):\n",
    "    if n == 0 or n == 1:\n",
    "        return 1\n",
    "    else:\n",
    "        return n * factorial_numero(n - 1)\n",
    "\n"
   ]
  },
  {
   "cell_type": "code",
   "execution_count": 16,
   "metadata": {},
   "outputs": [
    {
     "name": "stdout",
     "output_type": "stream",
     "text": [
      "3628800\n"
     ]
    }
   ],
   "source": [
    "numero = 10\n",
    "print(factorial_numero(numero))"
   ]
  },
  {
   "cell_type": "markdown",
   "metadata": {},
   "source": [
    "7.Genera una función que convierta una lista de tuplas a una lista de strings. Usa la función map()"
   ]
  },
  {
   "cell_type": "code",
   "execution_count": 17,
   "metadata": {},
   "outputs": [
    {
     "name": "stdout",
     "output_type": "stream",
     "text": [
      "['Pablo 25', 'Ana 13', 'Marta 45']\n"
     ]
    }
   ],
   "source": [
    "\n",
    "# Lista de tuplas\n",
    "tuplas = [(\"Pablo\", 25), (\"Ana\", 13), (\"Marta\", 45)]\n",
    "\n",
    "# Usamos map con una función lambda para convertir las tuplas en strings\n",
    "resultado = map(lambda tupla: \" \".join(map(str, tupla)), tuplas)\n",
    "\n",
    "# Convertimos el objeto map a una lista\n",
    "resultado_lista = list(resultado)\n",
    "\n",
    "print(resultado_lista)  # Salida: ['Juan 25', 'Ana 30', 'Pedro 22']"
   ]
  },
  {
   "cell_type": "markdown",
   "metadata": {},
   "source": [
    "8. Escribe un programa que pida al usuario dos números e intente dividirlos. Si el usuario ingresa un valor no numérico o intenta dividir por cero, maneja esas excepciones de manera adecuada. Asegúrate de mostrar un mensaje indicando si la división fue exitosa o no."
   ]
  },
  {
   "cell_type": "code",
   "execution_count": 18,
   "metadata": {},
   "outputs": [
    {
     "name": "stdout",
     "output_type": "stream",
     "text": [
      "El resultado de la división es: 0.046875\n"
     ]
    }
   ],
   "source": [
    "\n",
    "def dividir_dos_numeros():\n",
    "    try:\n",
    "        # Pedir al usuario los dos números\n",
    "        numero1 = int(input(\"Introduce el primer número: \"))\n",
    "        numero2 = int(input(\"Introduce el segundo número: \"))\n",
    "        \n",
    "        # Divido los dos numeros\n",
    "        resultado = numero1 / numero2\n",
    "        \n",
    "    except ValueError:\n",
    "        print(\"Error: Debes ingresar solo números enteros.\")\n",
    "    except ZeroDivisionError:\n",
    "        print(\"Error: No se puede dividir por cero.\")\n",
    "    else:\n",
    "        print(f\"El resultado de la división es: {resultado}\")\n",
    "\n",
    "\n",
    "dividir_dos_numeros()"
   ]
  },
  {
   "cell_type": "markdown",
   "metadata": {},
   "source": [
    "9.Escribe una función que tome una lista de nombres de mascotas como parámetro y devuelva una nueva lista excluyendo ciertas mascotas prohibidas en España. La lista de mascotas a excluir es [\"Mapache\", \"Tigre\", \"Serpiente Pitón\", \"Cocodrilo\", \"Oso\"].Usa la función filter()"
   ]
  },
  {
   "cell_type": "code",
   "execution_count": 24,
   "metadata": {},
   "outputs": [
    {
     "name": "stdout",
     "output_type": "stream",
     "text": [
      "['Perro', 'Gato', 'Conejo']\n"
     ]
    }
   ],
   "source": [
    "def lista_mascotas(mascotas):\n",
    "    mascotas_prohibidas = [\"Mapache\", \"Tigre\", \"Serpiente Pitón\", \"Cocodrilo\", \"Oso\"]\n",
    "    \n",
    "    return list(filter(lambda mascota: mascota not in mascotas_prohibidas, mascotas))\n",
    "\n",
    "mascotas = [\"Perro\", \"Gato\", \"Mapache\", \"Tigre\", \"Conejo\", \"Serpiente Pitón\"]\n",
    "resultado = lista_mascotas(mascotas)\n",
    "\n",
    "print(resultado)  "
   ]
  },
  {
   "cell_type": "code",
   "execution_count": null,
   "metadata": {},
   "outputs": [],
   "source": [
    "mascotas=[\"Leon\",\"Canguro\",\"Tigre\",\"Mapache\",\"Oso\",\"Lagarto\",\"Cocodrilo\",\"Perro\",\"Mariposa\"]"
   ]
  },
  {
   "cell_type": "markdown",
   "metadata": {},
   "source": [
    "10.Escribe una función que reciba una lista de números y calcule su promedio. Si la lista está vacía, lanza una excepción personalizada y maneja el error adecuadamente."
   ]
  },
  {
   "cell_type": "code",
   "execution_count": 4,
   "metadata": {},
   "outputs": [],
   "source": [
    "def calcular_promedio(lista_numeros):\n",
    "    if len(lista_numeros)==0:\n",
    "        raise ValueError('La lista esta vacia')\n",
    "    return  sum(lista_numeros)/len(lista_numeros)\n",
    "       "
   ]
  },
  {
   "cell_type": "code",
   "execution_count": 5,
   "metadata": {},
   "outputs": [
    {
     "data": {
      "text/plain": [
       "3.0"
      ]
     },
     "execution_count": 5,
     "metadata": {},
     "output_type": "execute_result"
    }
   ],
   "source": [
    "calcular_promedio([1,2,3,4,5])"
   ]
  },
  {
   "cell_type": "code",
   "execution_count": null,
   "metadata": {},
   "outputs": [
    {
     "ename": "ValueError",
     "evalue": "La lista esta vacia",
     "output_type": "error",
     "traceback": [
      "\u001b[1;31m---------------------------------------------------------------------------\u001b[0m",
      "\u001b[1;31mValueError\u001b[0m                                Traceback (most recent call last)",
      "Cell \u001b[1;32mIn[6], line 1\u001b[0m\n\u001b[1;32m----> 1\u001b[0m \u001b[43mcalcular_promedio\u001b[49m\u001b[43m(\u001b[49m\u001b[43m[\u001b[49m\u001b[43m]\u001b[49m\u001b[43m)\u001b[49m\n",
      "Cell \u001b[1;32mIn[4], line 3\u001b[0m, in \u001b[0;36mcalcular_promedio\u001b[1;34m(lista_numeros)\u001b[0m\n\u001b[0;32m      1\u001b[0m \u001b[38;5;28;01mdef\u001b[39;00m\u001b[38;5;250m \u001b[39m\u001b[38;5;21mcalcular_promedio\u001b[39m(lista_numeros):\n\u001b[0;32m      2\u001b[0m     \u001b[38;5;28;01mif\u001b[39;00m \u001b[38;5;28mlen\u001b[39m(lista_numeros)\u001b[38;5;241m==\u001b[39m\u001b[38;5;241m0\u001b[39m:\n\u001b[1;32m----> 3\u001b[0m         \u001b[38;5;28;01mraise\u001b[39;00m \u001b[38;5;167;01mValueError\u001b[39;00m(\u001b[38;5;124m'\u001b[39m\u001b[38;5;124mLa lista esta vacia\u001b[39m\u001b[38;5;124m'\u001b[39m)\n\u001b[0;32m      4\u001b[0m     \u001b[38;5;28;01mreturn\u001b[39;00m  \u001b[38;5;28msum\u001b[39m(lista_numeros)\u001b[38;5;241m/\u001b[39m\u001b[38;5;28mlen\u001b[39m(lista_numeros)\n",
      "\u001b[1;31mValueError\u001b[0m: La lista esta vacia"
     ]
    }
   ],
   "source": [
    "calcular_promedio([])"
   ]
  },
  {
   "cell_type": "markdown",
   "metadata": {},
   "source": [
    "11. Escribe un programa que pida al usuario que introduzca su edad. Si el usuario ingresa un valor no numérico o un valor fuera del rango esperado (por ejemplo, menor que 0 o mayor que 120, maneja las excepciones adecuadamente.)"
   ]
  },
  {
   "cell_type": "code",
   "execution_count": 5,
   "metadata": {},
   "outputs": [
    {
     "name": "stdout",
     "output_type": "stream",
     "text": [
      "¡Error! Debes ingresar un número válido para la edad.\n",
      "¡Error! Debes ingresar un número válido para la edad.\n",
      "¡Error! Debes ingresar un número válido para la edad.\n",
      "¡Error! Debes ingresar un número válido para la edad.\n",
      "¡Error! Debes ingresar un número válido para la edad.\n",
      "¡Error! Debes ingresar un número válido para la edad.\n",
      "¡Error! Debes ingresar un número válido para la edad.\n",
      "Tu edad es: 3 años.\n"
     ]
    }
   ],
   "source": [
    "\n",
    "def pedir_edad():\n",
    "    while True:\n",
    "        entrada = input(\"Por favor, ingresa tu edad: \")\n",
    "        \n",
    "        try:\n",
    "            edad = int(entrada)\n",
    "            \n",
    "            # Verifico que la edad esté en un rango válido\n",
    "            if edad < 0 or edad > 120:\n",
    "                print(\"¡Error! La edad debe estar entre 0 y 120 años.\")\n",
    "            else:\n",
    "                print(f\"Tu edad es: {edad} años.\")\n",
    "                break  \n",
    "        \n",
    "        except ValueError: \n",
    "            print(\"¡Error! Debes ingresar un número válido para la edad.\")\n",
    "\n",
    "pedir_edad()"
   ]
  },
  {
   "cell_type": "markdown",
   "metadata": {},
   "source": [
    "12.Genera una función que al recibir una frase devuelva una lista con la longitud de cada palabra. Usa la función map()"
   ]
  },
  {
   "cell_type": "code",
   "execution_count": 18,
   "metadata": {},
   "outputs": [],
   "source": [
    "def longitud_palabras(frase):\n",
    "    palabras= frase.split() #separa cada palabra de la frase\n",
    "    longitudes = list(map(lambda x: len(x), palabras))\n",
    "    return longitudes"
   ]
  },
  {
   "cell_type": "code",
   "execution_count": 19,
   "metadata": {},
   "outputs": [],
   "source": [
    "#un par de ejemplos de uso\n",
    "frase_1='Cuando zarpa el amor navega a ciegas es quien lleva el timon'\n",
    "frase_2='Tres tristes tigres tragaban trigo en un trigal'"
   ]
  },
  {
   "cell_type": "code",
   "execution_count": 20,
   "metadata": {},
   "outputs": [
    {
     "name": "stdout",
     "output_type": "stream",
     "text": [
      "[6, 5, 2, 4, 6, 1, 6, 2, 5, 5, 2, 5]\n",
      "[4, 7, 6, 8, 5, 2, 2, 6]\n"
     ]
    }
   ],
   "source": [
    "print(longitud_palabras(frase_1))\n",
    "print(longitud_palabras(frase_2))"
   ]
  },
  {
   "cell_type": "markdown",
   "metadata": {},
   "source": [
    "13.Genera una función la cual, para un conjunto de caracteres, devuelva una lista de tuplas con cada letra en mayúsculas y minúsculas. Las letras no pueden estar repetidas .Usa la función map()"
   ]
  },
  {
   "cell_type": "code",
   "execution_count": 1,
   "metadata": {},
   "outputs": [],
   "source": [
    "def generar_tuplas_conjunto(caracteres):\n",
    "    caracteres_unicos = set(caracteres)\n",
    "    \n",
    "    tuplas = list(map(lambda x: (x.upper(), x.lower()), caracteres_unicos))\n",
    "    \n",
    "    return tuplas"
   ]
  },
  {
   "cell_type": "code",
   "execution_count": 2,
   "metadata": {},
   "outputs": [
    {
     "name": "stdout",
     "output_type": "stream",
     "text": [
      "[('T', 't'), ('L', 'l'), ('O', 'o'), ('R', 'r'), ('P', 'p'), ('B', 'b'), ('A', 'a'), ('N', 'n'), ('Q', 'q'), ('J', 'j'), ('U', 'u'), ('S', 's'), ('H', 'h'), ('E', 'e')]\n"
     ]
    }
   ],
   "source": [
    "caracteres = \"holaquetalestoesunapruebajajaja\"\n",
    "resultado = generar_tuplas_conjunto(caracteres)\n",
    "print(resultado)"
   ]
  },
  {
   "cell_type": "markdown",
   "metadata": {},
   "source": [
    "14.Crea una función que retorne las palabras de una lista de palabras que comience con una letra en especifico. Usa la función filter()"
   ]
  },
  {
   "cell_type": "code",
   "execution_count": 31,
   "metadata": {},
   "outputs": [],
   "source": [
    "def palabras_con_letra(lista_palabras, letra):\n",
    "    # Usamos filter() para filtrar las palabras que comienzan con la letra especificada\n",
    "    resultado = filter(lambda palabra: palabra.lower().startswith(letra.lower()), lista_palabras)\n",
    "    return list(resultado)"
   ]
  },
  {
   "cell_type": "code",
   "execution_count": 33,
   "metadata": {},
   "outputs": [
    {
     "name": "stdout",
     "output_type": "stream",
     "text": [
      "['manzana', 'melón', 'mandarina', 'mango']\n"
     ]
    }
   ],
   "source": [
    "# Lista de palabras\n",
    "palabras = [\"manzana\", \"pera\", \"plátano\", \"melón\", \"mandarina\", \"mango\"]\n",
    "\n",
    "# Letra con la que deben empezar las palabras\n",
    "letra = 'm'\n",
    "\n",
    "# Llamamos a la función\n",
    "resultado = palabras_con_letra(palabras, letra)\n",
    "print(resultado)"
   ]
  },
  {
   "cell_type": "markdown",
   "metadata": {},
   "source": [
    "15.Crea una función lambda que  sume 3 a cada número de una lista dada."
   ]
  },
  {
   "cell_type": "code",
   "execution_count": 37,
   "metadata": {},
   "outputs": [
    {
     "name": "stdout",
     "output_type": "stream",
     "text": [
      "[4, 5, 6, 7, 8]\n"
     ]
    }
   ],
   "source": [
    "# Lista de números\n",
    "numeros = [1, 2, 3, 4, 5]\n",
    "\n",
    "resultado = list(map(lambda x: x + 3, numeros))\n",
    "print(resultado)"
   ]
  },
  {
   "cell_type": "markdown",
   "metadata": {},
   "source": [
    "16. Escribe una función que tome una cadena de texto y un número entero n como parámetros y devuelva una lista de todas las palabras que sean más largas que n. Usa la función filter()"
   ]
  },
  {
   "cell_type": "code",
   "execution_count": 48,
   "metadata": {},
   "outputs": [],
   "source": [
    "def funcion_cadena(texto,n):\n",
    "    resultado= filter(lambda palabra: len(palabra)>n,texto.split())\n",
    "    return list(resultado)"
   ]
  },
  {
   "cell_type": "code",
   "execution_count": 49,
   "metadata": {},
   "outputs": [
    {
     "name": "stdout",
     "output_type": "stream",
     "text": [
      "['encanta', 'desayunar', 'todas', 'mañanas', 'tostadas', 'aguacate', 'tomate']\n"
     ]
    }
   ],
   "source": [
    "texto=(\"Me encanta desayunar todas las mañanas unas tostadas de aguacate y tomate\")\n",
    "n= 4\n",
    "print(funcion_cadena(texto,n))"
   ]
  },
  {
   "cell_type": "markdown",
   "metadata": {},
   "source": [
    "17.Crea una función que tome una lista de dígitos y devuelva el número correspondiente. Por ejemplo, [5,7,2] corresponde al número quinientos setenta y dos [572]. Usa la función reduce()"
   ]
  },
  {
   "cell_type": "code",
   "execution_count": 59,
   "metadata": {},
   "outputs": [
    {
     "name": "stdout",
     "output_type": "stream",
     "text": [
      "348\n"
     ]
    }
   ],
   "source": [
    "from functools import reduce\n",
    "\n",
    "def lista_a_numero(digitos):\n",
    "    return reduce(lambda x, y: x * 10 + y, digitos)\n",
    "\n",
    "digitos = [3, 4, 8]\n",
    "numero = lista_a_numero(digitos)\n",
    "\n",
    "print(numero)  "
   ]
  },
  {
   "cell_type": "markdown",
   "metadata": {},
   "source": [
    "18.Escribe un programa en Python que cree una lista de diccionarios que contenga información de estudiantes (nombre, edad, calificación) y use la función filter para extraer a los estudiantes con una calificación mayor o igual a 90. Usa la función filter()"
   ]
  },
  {
   "cell_type": "code",
   "execution_count": 62,
   "metadata": {},
   "outputs": [],
   "source": [
    "def lista_diccionario():\n",
    "    nombre = [\"Marta\",\"Javi\",\"Pablo\",\"Ana\",\"Jose\",\"Ascen\",\"Alicia\"]\n",
    "    edad=[24,25,20,51,52,53,53,21]\n",
    "    calificacion=[120,70,80.91,100,40,35,130]\n",
    "\n",
    "    estudiantes = [{\"nombre\": n, \"edad\": e, \"calificacion\": c} for n, e, c in zip(nombre, edad, calificacion)]\n",
    "    \n",
    "   \n",
    "    resultado = filter(lambda estudiante: estudiante[\"calificacion\"] >= 90, estudiantes)\n",
    "    return list(resultado)\n"
   ]
  },
  {
   "cell_type": "code",
   "execution_count": 63,
   "metadata": {},
   "outputs": [
    {
     "name": "stdout",
     "output_type": "stream",
     "text": [
      "[{'nombre': 'Marta', 'edad': 24, 'calificacion': 120}, {'nombre': 'Ana', 'edad': 51, 'calificacion': 100}, {'nombre': 'Alicia', 'edad': 53, 'calificacion': 130}]\n"
     ]
    }
   ],
   "source": [
    "resultado = lista_diccionario()\n",
    "print(resultado)"
   ]
  },
  {
   "cell_type": "markdown",
   "metadata": {},
   "source": [
    "19.Crea una función lambda que filtre los números impares de una lista dada."
   ]
  },
  {
   "cell_type": "code",
   "execution_count": 68,
   "metadata": {},
   "outputs": [],
   "source": [
    "def filtrar_num_impar(numeros):\n",
    "    resultado = filter(lambda x: x % 2 != 0, numeros)\n",
    "    return list(resultado)"
   ]
  },
  {
   "cell_type": "code",
   "execution_count": 67,
   "metadata": {},
   "outputs": [
    {
     "name": "stdout",
     "output_type": "stream",
     "text": [
      "[1, 3, 5, 7, 9]\n"
     ]
    }
   ],
   "source": [
    "numeros = [1, 2, 3, 4, 5, 6, 7, 8, 9]\n",
    "impares = filtrar_num_impar(numeros)\n",
    "\n",
    "print(impares)  "
   ]
  },
  {
   "cell_type": "markdown",
   "metadata": {},
   "source": [
    "20.Para una lista con elementos tipo integer y string obtén una nueva lista sólo con los valores int. Usa la función filter()"
   ]
  },
  {
   "cell_type": "code",
   "execution_count": 3,
   "metadata": {},
   "outputs": [],
   "source": [
    "def filtrar_num_enteros(lista):\n",
    "    return list(filter(lambda x: isinstance(x, int), lista))"
   ]
  },
  {
   "cell_type": "code",
   "execution_count": 5,
   "metadata": {},
   "outputs": [
    {
     "name": "stdout",
     "output_type": "stream",
     "text": [
      "[5, 17, 20]\n"
     ]
    }
   ],
   "source": [
    "lista = [5, 'b', 17, 'hola', 20, 'marta']\n",
    "resultado = filtrar_num_enteros(lista)\n",
    "print(resultado)"
   ]
  },
  {
   "cell_type": "markdown",
   "metadata": {},
   "source": [
    "21.Crea una función que calcule el cubo de un número dado mediante una función lambda"
   ]
  },
  {
   "cell_type": "code",
   "execution_count": 15,
   "metadata": {},
   "outputs": [],
   "source": [
    "def calcular_cubo(x):\n",
    "    cubo = lambda x: x ** 3\n",
    "    return cubo(x)\n"
   ]
  },
  {
   "cell_type": "code",
   "execution_count": 16,
   "metadata": {},
   "outputs": [
    {
     "name": "stdout",
     "output_type": "stream",
     "text": [
      "El cubo de 4 es 64\n"
     ]
    }
   ],
   "source": [
    "\n",
    "numero = 4\n",
    "resultado = calcular_cubo(numero)\n",
    "print(f\"El cubo de {numero} es {resultado}\")"
   ]
  },
  {
   "cell_type": "markdown",
   "metadata": {},
   "source": [
    "22.Dada una lista numérica, obtén el producto total de los valores de dicha lista.Usa la función reduce() ."
   ]
  },
  {
   "cell_type": "code",
   "execution_count": 18,
   "metadata": {},
   "outputs": [
    {
     "name": "stdout",
     "output_type": "stream",
     "text": [
      "El producto total de los valores es: 66150\n"
     ]
    }
   ],
   "source": [
    "from functools import reduce\n",
    "\n",
    "# Lista\n",
    "numeros = [15, 21, 3, 14, 5]\n",
    "\n",
    "# Función para calcular el producto acumulado\n",
    "producto_total = reduce(lambda x, y: x * y, numeros)\n",
    "\n",
    "print(f\"El producto total de los valores es: {producto_total}\")"
   ]
  },
  {
   "cell_type": "markdown",
   "metadata": {},
   "source": [
    "23.Concatena una lista de palabras.Usa la función reduce() ."
   ]
  },
  {
   "cell_type": "code",
   "execution_count": 20,
   "metadata": {},
   "outputs": [
    {
     "name": "stdout",
     "output_type": "stream",
     "text": [
      "Palabras concatenadas: Hola me llamo Marta Ibañez\n"
     ]
    }
   ],
   "source": [
    "from functools import reduce\n",
    "\n",
    "# Lista de palabras\n",
    "palabras = [\"Hola\", \"me\", \"llamo\", \"Marta\", \"Ibañez\"]\n",
    "\n",
    "resultado = reduce(lambda x, y: x + \" \" + y, palabras)\n",
    "\n",
    "print(f\"Palabras concatenadas: {resultado}\")"
   ]
  },
  {
   "cell_type": "markdown",
   "metadata": {},
   "source": [
    "24.Calcula la diferencia total en los valores de una lista. Usa la función reduce() ."
   ]
  },
  {
   "cell_type": "code",
   "execution_count": 22,
   "metadata": {},
   "outputs": [
    {
     "name": "stdout",
     "output_type": "stream",
     "text": [
      "La diferencia total de los valores es: -43\n"
     ]
    }
   ],
   "source": [
    "from functools import reduce\n",
    "\n",
    "numeros = [10, 21, 7, 25]\n",
    "\n",
    "diferencia_total = reduce(lambda x, y: x - y, numeros)\n",
    "\n",
    "print(f\"La diferencia total de los valores es: {diferencia_total}\")\n"
   ]
  },
  {
   "cell_type": "markdown",
   "metadata": {},
   "source": [
    "25.Crea una función que cuente el número de caracteres en una cadena de texto dada."
   ]
  },
  {
   "cell_type": "code",
   "execution_count": null,
   "metadata": {},
   "outputs": [],
   "source": [
    "def contar_caracteres(texto):\n",
    "    return len(texto)"
   ]
  },
  {
   "cell_type": "code",
   "execution_count": 24,
   "metadata": {},
   "outputs": [
    {
     "name": "stdout",
     "output_type": "stream",
     "text": [
      "El número de caracteres en la cadena es: 30\n"
     ]
    }
   ],
   "source": [
    "cadena = \"Porfin es viernes, que alegría\"\n",
    "resultado = contar_caracteres(cadena)\n",
    "print(f\"El número de caracteres en la cadena es: {resultado}\")"
   ]
  },
  {
   "cell_type": "code",
   "execution_count": null,
   "metadata": {},
   "outputs": [],
   "source": [
    "# Creación de un array unidimensional, a partir de una lista.\n",
    "\n",
    "lista = [2,3,5]\n",
    "\n",
    "array1 = np.array(lista)\n",
    "array1\n",
    "\n",
    "# Output: \n",
    "array([2, 3, 5])"
   ]
  },
  {
   "cell_type": "markdown",
   "metadata": {},
   "source": [
    " 26.Crea una función lambda que calcule el resto de la división entre dos números dados"
   ]
  },
  {
   "cell_type": "code",
   "execution_count": 8,
   "metadata": {},
   "outputs": [
    {
     "name": "stdout",
     "output_type": "stream",
     "text": [
      "1\n",
      "1\n"
     ]
    }
   ],
   "source": [
    "def cacular_resto_division(): \n",
    "    return lambda x, y: x % y\n",
    "\n",
    "\n",
    "mi_resto = cacular_resto_division()\n",
    "print(mi_resto(10, 3)) \n",
    "print(mi_resto(25, 4))  "
   ]
  },
  {
   "cell_type": "markdown",
   "metadata": {},
   "source": [
    "27. Crea una función que calcule el promedio de una lista de número"
   ]
  },
  {
   "cell_type": "code",
   "execution_count": 9,
   "metadata": {},
   "outputs": [
    {
     "name": "stdout",
     "output_type": "stream",
     "text": [
      "El promedio es: 30.0\n"
     ]
    }
   ],
   "source": [
    "def calcular_promedio(lista):\n",
    "    if len(lista) == 0:\n",
    "        return 0  \n",
    "    return sum(lista) / len(lista)\n",
    "\n",
    "numeros = [10, 20, 30, 40, 50]\n",
    "promedio = calcular_promedio(numeros)\n",
    "print(f\"El promedio es: {promedio}\") "
   ]
  },
  {
   "cell_type": "markdown",
   "metadata": {},
   "source": [
    "28. Crea una función que busque y devuelva el primer elemento duplicado en una lista dad"
   ]
  },
  {
   "cell_type": "code",
   "execution_count": 10,
   "metadata": {},
   "outputs": [
    {
     "name": "stdout",
     "output_type": "stream",
     "text": [
      "El primer duplicado es: 5\n"
     ]
    }
   ],
   "source": [
    "def primer_duplicado(lista):\n",
    "    vistos = set()  \n",
    "    for elemento in lista:\n",
    "        if elemento in vistos:\n",
    "            return elemento \n",
    "        vistos.add(elemento)\n",
    "    return None \n",
    "\n",
    "numeros = [3, 5, 2, 4, 5, 6, 2]\n",
    "resultado = primer_duplicado(numeros)\n",
    "print(f\"El primer duplicado es: {resultado}\")"
   ]
  },
  {
   "cell_type": "markdown",
   "metadata": {},
   "source": [
    "29. Crea una función que convierta una variable en una cadena de texto y enmascare todos los caracteres con el\n",
    "carácter '#', excepto los últimos cuatro."
   ]
  },
  {
   "cell_type": "code",
   "execution_count": 11,
   "metadata": {},
   "outputs": [
    {
     "name": "stdout",
     "output_type": "stream",
     "text": [
      "#####6789\n",
      "#######1234\n",
      "abcd\n"
     ]
    }
   ],
   "source": [
    "def enmascarar_variable(variable):\n",
    "    variable_str = str(variable)\n",
    "    longitud = len(variable_str)\n",
    "    \n",
    "    if longitud <= 4:\n",
    "        return variable_str\n",
    "    else:\n",
    "        return '#' * (longitud - 4) + variable_str[-4:]\n",
    "\n",
    "\n",
    "print(enmascarar_variable(123456789))    \n",
    "print(enmascarar_variable(\"secreto1234\"))  \n",
    "print(enmascarar_variable(\"abcd\"))   "
   ]
  },
  {
   "cell_type": "markdown",
   "metadata": {},
   "source": [
    "30. Crea una función que determine si dos palabras son anagramas, es decir, si están formadas por las mismas letras\n",
    "pero en diferente orden."
   ]
  },
  {
   "cell_type": "code",
   "execution_count": 12,
   "metadata": {},
   "outputs": [
    {
     "name": "stdout",
     "output_type": "stream",
     "text": [
      "True\n",
      "True\n",
      "False\n"
     ]
    }
   ],
   "source": [
    "def son_anagramas(palabra1, palabra2):\n",
    "    palabra1 = palabra1.replace(\" \", \"\").lower()\n",
    "    palabra2 = palabra2.replace(\" \", \"\").lower()\n",
    "    \n",
    "   \n",
    "    return sorted(palabra1) == sorted(palabra2)\n",
    "\n",
    "\n",
    "print(son_anagramas(\"roma\", \"amor\"))      \n",
    "print(son_anagramas(\"listen\", \"silent\")) \n",
    "print(son_anagramas(\"python\", \"java\"))    \n"
   ]
  },
  {
   "cell_type": "markdown",
   "metadata": {},
   "source": [
    "31.Crea una función que solicite al usuario ingresar una lista de nombres y luego solicite un nombre para buscar en\n",
    "esa lista. Si el nombre está en la lista, se imprime un mensaje indicando que fue encontrado, de lo contrario, se\n",
    "lanza una excepción"
   ]
  },
  {
   "cell_type": "code",
   "execution_count": null,
   "metadata": {},
   "outputs": [],
   "source": [
    "def buscar_nombre():\n",
    "    try:\n",
    "        entrada = input(\"Ingresa una lista de nombres separados por comas: \")\n",
    "        lista_nombres = [nombre.strip() for nombre in entrada.split(\",\")]\n",
    "\n",
    "    \n",
    "        nombre_buscar = input(\"Ingresa el nombre que deseas buscar: \").strip()\n",
    "\n",
    "        if nombre_buscar in lista_nombres:\n",
    "            print(f\"¡El nombre '{nombre_buscar}' fue encontrado en la lista!\")\n",
    "        else:\n",
    "            raise ValueError(f\"El nombre '{nombre_buscar}' no está en la lista.\")\n",
    "\n",
    "    except ValueError as e:\n",
    "        print(f\"Error: {e}\")\n",
    "\n",
    "\n",
    "buscar_nombre()"
   ]
  },
  {
   "cell_type": "markdown",
   "metadata": {},
   "source": [
    "32. Crea una función que tome un nombre completo y una lista de empleados, busque el nombre completo en la lista y\n",
    "devuelve el puesto del empleado si está en la lista, de lo contrario, devuelve un mensaje indicando que la persona\n",
    "no trabaja aquí."
   ]
  },
  {
   "cell_type": "code",
   "execution_count": 13,
   "metadata": {},
   "outputs": [
    {
     "name": "stdout",
     "output_type": "stream",
     "text": [
      "El puesto de Luis Gómez es: Analista\n",
      "Carlos Ruiz no trabaja aquí.\n"
     ]
    }
   ],
   "source": [
    "def buscar_puesto(nombre_completo, lista_empleados):\n",
    "    for empleado in lista_empleados:\n",
    "        if empleado['nombre'].lower() == nombre_completo.lower():\n",
    "            return f\"El puesto de {nombre_completo} es: {empleado['puesto']}\"\n",
    "    \n",
    " \n",
    "    return f\"{nombre_completo} no trabaja aquí.\"\n",
    "\n",
    "\n",
    "empleados = [\n",
    "    {'nombre': 'Ana Pérez', 'puesto': 'Gerente'},\n",
    "    {'nombre': 'Luis Gómez', 'puesto': 'Analista'},\n",
    "    {'nombre': 'María López', 'puesto': 'Desarrolladora'},\n",
    "]\n",
    "\n",
    "\n",
    "print(buscar_puesto('Luis Gómez', empleados))    \n",
    "print(buscar_puesto('Carlos Ruiz', empleados))   "
   ]
  },
  {
   "cell_type": "markdown",
   "metadata": {},
   "source": [
    "33.Crea una función lambda que sume elementos correspondientes de dos listas dadas."
   ]
  },
  {
   "cell_type": "code",
   "execution_count": null,
   "metadata": {},
   "outputs": [],
   "source": [
    "\n",
    "sumar_listas = lambda lista1, lista2: list(map(lambda x, y: x + y, lista1, lista2))\n",
    "\n",
    "\n",
    "lista1 = [1, 2, 3, 4]\n",
    "lista2 = [10, 20, 30, 40]\n",
    "\n",
    "resultado = sumar_listas(lista1, lista2)\n",
    "print(resultado)  \n"
   ]
  },
  {
   "cell_type": "markdown",
   "metadata": {},
   "source": [
    "34.Crea la clase Arbol , define un árbol genérico con un tronco y ramas como atributos. Los métodos disponibles son: crecer_tronco , nueva_rama , crecer_ramas , quitar_rama e info_arbol . El objetivo es implementar estos métodos para manipular la estructura del árbol. Código a seguir: 1. Inicializar un árbol con un tronco de longitud 1 y una lista vacía de ramas. 2. Implementar el método crecer_tronco para aumentar la longitud del tronco en una unidad. 3. Implementar el método nueva_rama para agregar una nueva rama de longitud 1 a la lista de ramas. 4. Implementar el método crecer_ramas para aumentar en una unidad la longitud de todas las ramas existentes. 5. Implementar el método quitar_rama para eliminar una rama en una posición específica."
   ]
  },
  {
   "cell_type": "code",
   "execution_count": null,
   "metadata": {},
   "outputs": [],
   "source": [
    "class Arbol:\n",
    "    def __init__(self):\n",
    "        # Inicializa el árbol con un tronco de longitud 1 y una lista vacía de ramas.\n",
    "        self.tronco = 1\n",
    "        self.ramas = []\n",
    "\n",
    "    def crecer_tronco(self):\n",
    "        # Aumenta la longitud del tronco en una unidad.\n",
    "        self.tronco += 1\n",
    "\n",
    "    def nueva_rama(self):\n",
    "        # Agrega una nueva rama de longitud 1 a la lista de ramas.\n",
    "        self.ramas.append(1)\n",
    "\n",
    "    def crecer_ramas(self):\n",
    "        # Aumenta en una unidad la longitud de todas las ramas existentes.\n",
    "        self.ramas = [rama + 1 for rama in self.ramas]\n",
    "\n",
    "    def quitar_rama(self, posicion):\n",
    "        # Elimina una rama en la posición específica.\n",
    "        if 0 <= posicion < len(self.ramas):\n",
    "            self.ramas.pop(posicion)\n",
    "        else:\n",
    "            print(\"Posición de rama inválida.\")\n",
    "\n",
    "    def info_arbol(self):\n",
    "        # Devuelve información sobre el árbol.\n",
    "        return {\n",
    "            \"Longitud del tronco\": self.tronco,\n",
    "            \"Número de ramas\": len(self.ramas),\n",
    "            \"Longitudes de las ramas\": self.ramas\n",
    "        }\n",
    "\n",
    "# Ejemplo\n",
    "arbol = Arbol()\n",
    "\n",
    "# Hacer crecer el tronco una unidad\n",
    "arbol.crecer_tronco()\n",
    "\n",
    "# Añadir una nueva rama\n",
    "arbol.nueva_rama()\n",
    "\n",
    "# Hacer crecer todas las ramas una unidad\n",
    "arbol.crecer_ramas()\n",
    "\n",
    "# Añadir dos nuevas ramas\n",
    "arbol.nueva_rama()\n",
    "arbol.nueva_rama()\n",
    "\n",
    "# Retirar la rama en la posición 2\n",
    "arbol.quitar_rama(2)\n",
    "\n",
    "# Obtener la información sobre el árbol\n",
    "info = arbol.info_arbol()\n",
    "print(info)\n"
   ]
  },
  {
   "cell_type": "markdown",
   "metadata": {},
   "source": [
    "36.Crea la clase UsuarioBanco ,representa a un usuario de un banco con su nombre, saldo y si tiene o no cuenta\n",
    "corriente. Proporciona métodos para realizar operaciones como retirar dinero, transferir dinero desde otro usuario y\n",
    "agregar dinero al saldo.\n",
    "Código a seguir:\n",
    "1 Inicializar un usuario con su nombre, saldo y si tiene o no cuenta corriente mediante True y False .\n",
    "2 Implementar el método retirar_dinero para retirar dinero del saldo del usuario. Lanzará un error en caso de no\n",
    "poder hacerse.\n",
    "3 Implementar el método transferir_dinero para realizar una transferencia desde otro usuario al usuario actual.\n",
    "Lanzará un error en caso de no poder hacerse.\n",
    "4 Implementar el método agregar_dinero para agregar dinero al saldo del usuario.\n",
    "Caso de uso:\n",
    "- Crear dos usuarios: \"Alicia\" con saldo inicial de 100 y \"Bob\" con saldo inicial de 50, ambos con cuenta corriente.\n",
    "PROYECTO LÓGICA Katas de Python3 Agregar 20 unidades de saldo de \"Bob\".\n",
    "-Hacer una transferencia de 80 unidades desde \"Bob\" a \"Alicia\".\n",
    "- Retirar 50 unidades de saldo a \"Alicia\""
   ]
  },
  {
   "cell_type": "code",
   "execution_count": null,
   "metadata": {},
   "outputs": [],
   "source": [
    "class UsuarioBanco:\n",
    "    def __init__(self, nombre, saldo, tiene_cuenta_corriente):\n",
    "        self.nombre = nombre\n",
    "        self.saldo = saldo\n",
    "        self.tiene_cuenta_corriente = tiene_cuenta_corriente\n",
    "\n",
    "    def retirar_dinero(self, cantidad):\n",
    "        # Verificamos si el usuario tiene suficiente saldo\n",
    "        if cantidad <= self.saldo:\n",
    "            self.saldo -= cantidad\n",
    "        else:\n",
    "            raise ValueError(f\"Saldo insuficiente para retirar {cantidad} unidades.\")\n",
    "\n",
    "    def transferir_dinero(self, otro_usuario, cantidad):\n",
    "        # Verificamos si el otro usuario tiene suficiente saldo y si la transferencia es válida\n",
    "        if cantidad <= otro_usuario.saldo:\n",
    "            otro_usuario.saldo -= cantidad\n",
    "            self.saldo += cantidad\n",
    "        else:\n",
    "            raise ValueError(f\"{otro_usuario.nombre} no tiene suficiente saldo para transferir {cantidad} unidades.\")\n",
    "\n",
    "    def agregar_dinero(self, cantidad):\n",
    "        # Agregamos dinero al saldo\n",
    "        self.saldo += cantidad\n",
    "\n",
    "    def __str__(self):\n",
    "        # Representación del usuario\n",
    "        return f\"{self.nombre}: Saldo = {self.saldo}, Cuenta corriente = {self.tiene_cuenta_corriente}\"\n",
    "\n",
    "\n",
    "\n",
    "# Crear dos usuarios: Alicia y Bob\n",
    "alicia = UsuarioBanco(\"Alicia\", 100, True)\n",
    "bob = UsuarioBanco(\"Bob\", 50, True)\n",
    "\n",
    "# Agregar 20 unidades de saldo a Bob\n",
    "bob.agregar_dinero(20)\n",
    "print(bob) \n",
    "\n",
    "# Transferir 80 unidades desde Bob a Alicia\n",
    "try:\n",
    "    bob.transferir_dinero(alicia, 80)\n",
    "    print(bob)  # Saldo de Bob después de la transferencia\n",
    "    print(alicia)  # Saldo de Alicia después de recibir la transferencia\n",
    "except ValueError as e:\n",
    "    print(e)\n",
    "\n",
    "# Retirar 50 unidades de saldo a Alicia\n",
    "try:\n",
    "    alicia.retirar_dinero(50)\n",
    "    print(alicia)  \n",
    "except ValueError as e:\n",
    "    print(e)\n"
   ]
  },
  {
   "cell_type": "markdown",
   "metadata": {},
   "source": [
    "37. Crea una función llamada procesar_texto que procesa un texto según la opción especificada: contar_palabras ,\n",
    "reemplazar_palabras , eliminar_palabra . Estas opciones son otras funciones que tenemos que definir primero y llamar dentro\n",
    "de la función procesar_texto .\n",
    "Código a seguir:\n",
    "- Crear una función contar_palabras para contar el número de veces que aparece cada palabra en el texto. Tiene\n",
    "que devolver un diccionario.\n",
    "- Crear una función reemplazar_palabras para remplazar una palabra_original del texto por una palabra_nueva . Tiene\n",
    "que devolver el texto con el remplazo de palabras.\n",
    "- Crear una función eliminar_palabra para eliminar una palabra del texto. Tiene que devolver el texto con la palabra\n",
    "eliminada.\n",
    "- Crear la función procesar_texto que tome un texto, una opción(entre \"contar\", \"reemplazar\", \"eliminar\") y un\n",
    "número de argumentos variable según la opción indicada.\n",
    "Caso de uso:\n",
    "Comprueba el funcionamiento completo de la función procesar_texto"
   ]
  },
  {
   "cell_type": "code",
   "execution_count": null,
   "metadata": {},
   "outputs": [],
   "source": [
    "from collections import Counter\n",
    "\n",
    "# Función para contar las palabras\n",
    "def contar_palabras(texto):\n",
    "    palabras = texto.split()  \n",
    "    return dict(Counter(palabras)) \n",
    "\n",
    "# Función para reemplazar una palabra por otra\n",
    "def reemplazar_palabras(texto, palabra_original, palabra_nueva):\n",
    "    return texto.replace(palabra_original, palabra_nueva)  # Reemplazamos todas las ocurrencias de la palabra\n",
    "\n",
    "# Función para eliminar una palabra del texto\n",
    "def eliminar_palabra(texto, palabra):\n",
    "    palabras = texto.split()  # Separamos el texto en palabras\n",
    "    palabras = [p for p in palabras if p != palabra]  # Filtramos la palabra que queremos eliminar\n",
    "    return ' '.join(palabras)  # Volvemos a unir las palabras en un solo texto\n",
    "\n",
    "# Función principal para procesar el texto según la opción\n",
    "def procesar_texto(texto, opcion, *args):\n",
    "    if opcion == \"contar\":\n",
    "        return contar_palabras(texto)\n",
    "    elif opcion == \"reemplazar\":\n",
    "        if len(args) != 2:\n",
    "            raise ValueError(\"Se requieren dos argumentos para reemplazar (palabra_original, palabra_nueva).\")\n",
    "        return reemplazar_palabras(texto, args[0], args[1])\n",
    "    elif opcion == \"eliminar\":\n",
    "        if len(args) != 1:\n",
    "            raise ValueError(\"Se requiere un argumento para eliminar (palabra).\")\n",
    "        return eliminar_palabra(texto, args[0])\n",
    "    else:\n",
    "        raise ValueError(\"Opción no válida. Las opciones válidas son: 'contar', 'reemplazar', 'eliminar'.\")\n",
    "\n",
    "# Caso de uso:\n",
    "\n",
    "texto = \"hola mundo, este es un texto de prueba. Hola mundo\"\n",
    "\n",
    "# Contar las palabras\n",
    "resultado_contar = procesar_texto(texto, \"contar\")\n",
    "print(\"Contar palabras:\", resultado_contar)\n",
    "\n",
    "# Reemplazar la palabra \"Hola\" por \"Adiós\"\n",
    "resultado_reemplazar = procesar_texto(texto, \"reemplazar\", \"Hola\", \"Adiós\")\n",
    "print(\"Texto después de reemplazar:\", resultado_reemplazar)\n",
    "\n",
    "# Eliminar la palabra \"prueba\"\n",
    "resultado_eliminar = procesar_texto(texto, \"eliminar\", \"prueba\")\n",
    "print(\"Texto después de eliminar:\", resultado_eliminar)\n"
   ]
  },
  {
   "cell_type": "markdown",
   "metadata": {},
   "source": [
    "38. Genera un programa que nos diga si es de noche, de día o tarde según la hora proporcionada por el usuario."
   ]
  },
  {
   "cell_type": "code",
   "execution_count": null,
   "metadata": {},
   "outputs": [],
   "source": [
    "def determinar_hora(hora):\n",
    "    # Validamos que la hora esté en el rango correcto (0-23)\n",
    "    if hora < 0 or hora >= 24:\n",
    "        return \"Hora no válida. Debe estar entre 0 y 23.\"\n",
    "\n",
    "    # Determinamos si es de día, tarde o noche según la hora\n",
    "    if 6 <= hora < 12:\n",
    "        return \"Es de día.\"\n",
    "    elif 12 <= hora < 18:\n",
    "        return \"Es de tarde.\"\n",
    "    elif 18 <= hora < 24 or 0 <= hora < 6:\n",
    "        return \"Es de noche.\"\n",
    "\n",
    "# Pedimos la hora al usuario\n",
    "hora_usuario = int(input(\"Por favor, ingresa la hora (0-23): \"))\n",
    "\n",
    "# Llamamos a la función para determinar el momento del día\n",
    "resultado = determinar_hora(hora_usuario)\n",
    "\n",
    "# Mostramos el resultado\n",
    "print(resultado)\n"
   ]
  },
  {
   "cell_type": "markdown",
   "metadata": {},
   "source": [
    "39.Escribe un programa que determine qué calificación en texto tiene un alumno en base a su calificación numérica.\n",
    "Las reglas de calificación son:\n",
    "- 0 / 69 insuficiente\n",
    "- 70 / 79 bien\n",
    "- 80 / 89 muy bien\n",
    "- 90 / 100 excelente"
   ]
  },
  {
   "cell_type": "code",
   "execution_count": null,
   "metadata": {},
   "outputs": [],
   "source": [
    "def calificacion_texto(calificacion):\n",
    "    # Verificamos si la calificación está en el rango válido\n",
    "    if 0 <= calificacion <= 69:\n",
    "        return \"Insuficiente\"\n",
    "    elif 70 <= calificacion <= 79:\n",
    "        return \"Bien\"\n",
    "    elif 80 <= calificacion <= 89:\n",
    "        return \"Muy bien\"\n",
    "    elif 90 <= calificacion <= 100:\n",
    "        return \"Excelente\"\n",
    "    else:\n",
    "        return \"Calificación no válida. Debe estar entre 0 y 100.\"\n",
    "\n",
    "# Pedimos la calificación al usuario\n",
    "calificacion_usuario = float(input(\"Ingresa la calificación numérica del alumno (0-100): \"))\n",
    "\n",
    "# Llamamos a la función para obtener la calificación en texto\n",
    "resultado = calificacion_texto(calificacion_usuario)\n",
    "\n",
    "# Mostramos el resultado\n",
    "print(\"La calificación en texto es:\", resultado)\n"
   ]
  },
  {
   "cell_type": "markdown",
   "metadata": {},
   "source": [
    "40. Escribe una función que tome dos parámetros: figura (una cadena que puede ser \"rectangulo\" , \"circulo\" o\n",
    "\"triangulo\" ) y datos (una tupla con los datos necesarios para calcular el área de la figura)."
   ]
  },
  {
   "cell_type": "code",
   "execution_count": null,
   "metadata": {},
   "outputs": [],
   "source": [
    "import math\n",
    "\n",
    "def calcular_area(figura, datos):\n",
    "    if figura == \"rectangulo\":\n",
    "        # Aseguramos que los datos son los correctos (base, altura)\n",
    "        if len(datos) != 2:\n",
    "            raise ValueError(\"Se requieren 2 parámetros para el rectángulo: base y altura.\")\n",
    "        base, altura = datos\n",
    "        return base * altura\n",
    "    \n",
    "    elif figura == \"circulo\":\n",
    "        # Aseguramos que los datos contienen el radio\n",
    "        if len(datos) != 1:\n",
    "            raise ValueError(\"Se requiere 1 parámetro para el círculo: radio.\")\n",
    "        radio = datos[0]\n",
    "        return math.pi * radio ** 2\n",
    "    \n",
    "    elif figura == \"triangulo\":\n",
    "        # Aseguramos que los datos son los correctos (base, altura)\n",
    "        if len(datos) != 2:\n",
    "            raise ValueError(\"Se requieren 2 parámetros para el triángulo: base y altura.\")\n",
    "        base, altura = datos\n",
    "        return (base * altura) / 2\n",
    "    \n",
    "    else:\n",
    "        raise ValueError(\"Figura no válida. Las opciones válidas son 'rectangulo', 'circulo' o 'triangulo'.\")\n",
    "\n",
    "# Ejemplos de uso:\n",
    "\n",
    "# Rectángulo: base=5, altura=3\n",
    "print(\"Área del rectángulo:\", calcular_area(\"rectangulo\", (5, 3)))\n",
    "\n",
    "# Círculo: radio=4\n",
    "print(\"Área del círculo:\", calcular_area(\"circulo\", (4,)))\n",
    "\n",
    "# Triángulo: base=6, altura=4\n",
    "print(\"Área del triángulo:\", calcular_area(\"triangulo\", (6, 4)))\n"
   ]
  },
  {
   "cell_type": "markdown",
   "metadata": {},
   "source": [
    "41 En este ejercicio, se te pedirá que escribas un programa en Python que utilice condicionales para determinar el\n",
    "monto final de una compra en una tienda en línea, después de aplicar un descuento. El programa debe hacer lo\n",
    "siguiente:\n",
    "1. Solicita al usuario que ingrese el precio original de un artículo.\n",
    "2. Pregunta al usuario si tiene un cupón de descuento (respuesta sí o no).\n",
    "3. Si el usuario responde que sí, solicita que ingrese el valor del cupón de descuento.\n",
    "4. Aplica el descuento al precio original del artículo, siempre y cuando el valor del cupón sea válido (es decir, mayor\n",
    "a cero). Por ejemplo, descuento de 15€.\n",
    "5. Muestra el precio final de la compra, teniendo en cuenta el descuento aplicado o sin él.\n",
    "6. Recuerda utilizar estructuras de control de flujo como if, elif y else para llevar a cabo estas acciones en tu\n",
    "programa de Python."
   ]
  },
  {
   "cell_type": "code",
   "execution_count": null,
   "metadata": {},
   "outputs": [],
   "source": [
    "def calcular_precio_final():\n",
    "    # Paso 1: Solicitar el precio original del artículo\n",
    "    precio_original = float(input(\"Ingresa el precio original del artículo: \"))\n",
    "\n",
    "    # Paso 2: Preguntar si tiene un cupón de descuento\n",
    "    tiene_cupon = input(\"¿Tienes un cupón de descuento? (sí/no): \").strip().lower()\n",
    "\n",
    "    # Paso 3: Si el usuario tiene un cupón, pedir el valor del descuento\n",
    "    if tiene_cupon == \"sí\":\n",
    "        descuento = float(input(\"Ingresa el valor del cupón de descuento: \"))\n",
    "        \n",
    "        # Paso 4: Comprobar si el descuento es válido (mayor a cero)\n",
    "        if descuento > 0:\n",
    "            precio_final = precio_original - descuento\n",
    "            print(f\"¡Descuento aplicado! El precio final de la compra es: {precio_final}€\")\n",
    "        else:\n",
    "            print(\"El valor del cupón no es válido (debe ser mayor a cero). El precio final es el precio original.\")\n",
    "            print(f\"El precio final de la compra es: {precio_original}€\")\n",
    "    else:\n",
    "        # Paso 5: Si no tiene cupón, el precio final es el original\n",
    "        print(f\"No tienes un cupón de descuento. El precio final de la compra es: {precio_original}€\")\n",
    "\n",
    "# Ejecutamos la función\n",
    "calcular_precio_final()\n"
   ]
  }
 ],
 "metadata": {
  "kernelspec": {
   "display_name": "Python 3",
   "language": "python",
   "name": "python3"
  },
  "language_info": {
   "codemirror_mode": {
    "name": "ipython",
    "version": 3
   },
   "file_extension": ".py",
   "mimetype": "text/x-python",
   "name": "python",
   "nbconvert_exporter": "python",
   "pygments_lexer": "ipython3",
   "version": "3.13.0"
  }
 },
 "nbformat": 4,
 "nbformat_minor": 2
}
